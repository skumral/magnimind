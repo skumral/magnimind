{
 "cells": [
  {
   "cell_type": "markdown",
   "id": "6dee2fba",
   "metadata": {},
   "source": [
    "1. If a list of people has 24 women and 21 men, then the probability of choosing a man from the list is 21/45. What is the probability of not choosing a man?\n",
    "\n",
    "a) 24/45\n",
    "\n",
    "b) 1-(21/24)\n",
    "\n",
    "c) 21/24\n",
    "\n",
    "d) 24/21"
   ]
  },
  {
   "cell_type": "markdown",
   "id": "0547c311",
   "metadata": {},
   "source": [
    "P(man) = 21/45\n",
    "P(man~) = 1 - (21/45)\n",
    "        = 24/45 \n"
   ]
  },
  {
   "cell_type": "markdown",
   "id": "fa669925",
   "metadata": {},
   "source": [
    "2. The probability that Bernice will travel by plane sometime in the next year is 10%. The probability of a plane crash at any time is 0.005%.\n",
    "What is the probability that Bernice will be in a plane crash sometime in the next year?\n",
    "\n",
    "a) 50%\n",
    "\n",
    "b) 0.0010%\n",
    "\n",
    "c) 10%\n",
    "\n",
    "d) 0.0005%\n"
   ]
  },
  {
   "cell_type": "code",
   "execution_count": null,
   "id": "7d68a78d",
   "metadata": {},
   "outputs": [],
   "source": [
    "Since these two are independent events, the probability that Bernice will be in a plane crash in the next year is \n",
    "calculated by multiplying the two probabilities:\n",
    "    P(plane crash) = 10% * 0.005%\n",
    "                   = 0.0005% "
   ]
  },
  {
   "cell_type": "markdown",
   "id": "81951bc9",
   "metadata": {},
   "source": [
    "3. A data scientist wants to study the behavior of users on the company website. Each time a user clicks on a link on the website, there is a 5% chance that the user will be asked to complete a short survey about their behavior on the website.\n",
    "The data scientist uses the survey data to conclude that, on average, users spend 15 minutes surfing the company website before moving on to other things. What is wrong with this conclusion?\n",
    "\n",
    "a) Customers should be asked to complete surveys 25% of the time.\n",
    "\n",
    "b) People who surf longer are likely to click more links, increasing the odds of getting a survey.\n",
    "\n",
    "c) The average internet user only surfs a site for 12 minutes, on average.\n",
    "\n",
    "d) The data scientist is not considering mobile applications."
   ]
  },
  {
   "cell_type": "code",
   "execution_count": null,
   "id": "dbd0eaa6",
   "metadata": {},
   "outputs": [],
   "source": [
    "b) People who surf longer are likely to click more links, increasing the odds of getting a survey."
   ]
  },
  {
   "cell_type": "markdown",
   "id": "ecada5ef",
   "metadata": {},
   "source": [
    "4. A diagnostic test has a 98% probability of giving a positive result when applied to a person suffering from Thripshaw's disease and a 10% probability of giving a (false) positive when applied to a nonsufferer. It is estimated that 0.5% of the population has the disease.\n",
    "Suppose that the test is now administered to a person whose disease status is unknown. Calculate the probability that the test will be positive.\n",
    "\n",
    "a) 0.0049\n",
    "\n",
    "b) 0.0995\n",
    "\n",
    "c) 0.1044\n",
    "\n",
    "d) 0.995"
   ]
  },
  {
   "cell_type": "code",
   "execution_count": null,
   "id": "58f02269",
   "metadata": {},
   "outputs": [],
   "source": [
    "We want to know what is the probability of getting a positive test result regardless of the disease status of the person\n",
    "A: test being positive\n",
    "B: person having disease\n",
    "B~: person does not have disease\n",
    "    \n",
    "    P(A) = P(A and B)  +  P(A and B~)\n",
    "    P(A) = P(A|B)*P(B) +  P(A|B~)*P(B~)\n",
    "    "
   ]
  },
  {
   "cell_type": "code",
   "execution_count": 5,
   "id": "fd5d2062",
   "metadata": {},
   "outputs": [
    {
     "data": {
      "text/plain": [
       "0.1044"
      ]
     },
     "execution_count": 5,
     "metadata": {},
     "output_type": "execute_result"
    }
   ],
   "source": [
    "0.98*0.005 + 0.10*(1-0.005)"
   ]
  },
  {
   "cell_type": "code",
   "execution_count": null,
   "id": "f04659c2",
   "metadata": {},
   "outputs": [],
   "source": []
  }
 ],
 "metadata": {
  "kernelspec": {
   "display_name": "Python 3 (ipykernel)",
   "language": "python",
   "name": "python3"
  },
  "language_info": {
   "codemirror_mode": {
    "name": "ipython",
    "version": 3
   },
   "file_extension": ".py",
   "mimetype": "text/x-python",
   "name": "python",
   "nbconvert_exporter": "python",
   "pygments_lexer": "ipython3",
   "version": "3.9.13"
  }
 },
 "nbformat": 4,
 "nbformat_minor": 5
}
